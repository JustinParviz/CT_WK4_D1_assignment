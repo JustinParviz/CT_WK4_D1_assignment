{
 "cells": [
  {
   "cell_type": "markdown",
   "metadata": {},
   "source": [
    "# Map, Filter, Reduce, Lambda"
   ]
  },
  {
   "cell_type": "markdown",
   "metadata": {},
   "source": [
    "## Tasks Today:\n",
    "\n",
    "1) <b>Lambda Functions</b> <br>\n",
    " &nbsp;&nbsp;&nbsp;&nbsp; a) Syntax <br>\n",
    " &nbsp;&nbsp;&nbsp;&nbsp; b) Saving to a Variable <br>\n",
    " &nbsp;&nbsp;&nbsp;&nbsp; c) Multiple Inputs <br>\n",
    " &nbsp;&nbsp;&nbsp;&nbsp; d) Passing a Lambda into a Function <br>\n",
    " &nbsp;&nbsp;&nbsp;&nbsp; e) Returning a Lambda from a Function <br>\n",
    " &nbsp;&nbsp;&nbsp;&nbsp; f) In-Class Exercise #1 <br>\n",
    "2) <b>Map</b> <br>\n",
    " &nbsp;&nbsp;&nbsp;&nbsp; a) Syntax <br>\n",
    " &nbsp;&nbsp;&nbsp;&nbsp; b) Using Lambda's with Map <br>\n",
    " &nbsp;&nbsp;&nbsp;&nbsp; c) In-Class Exercise #2 <br>\n",
    "3) <b>Filter</b> <br>\n",
    " &nbsp;&nbsp;&nbsp;&nbsp; a) Syntax <br>\n",
    " &nbsp;&nbsp;&nbsp;&nbsp; b) Using Lambda's with Filter <br>\n",
    " &nbsp;&nbsp;&nbsp;&nbsp; c) In-Class Exercise #3 <br>\n",
    "4) <b>Reduce</b> <br>\n",
    " &nbsp;&nbsp;&nbsp;&nbsp; a) Syntax <br>\n",
    " &nbsp;&nbsp;&nbsp;&nbsp; b) Using Lambda's with Reduce <br>\n",
    " &nbsp;&nbsp;&nbsp;&nbsp; c) In-Class Exercise #4 <br>\n",
    "5) <b>Generators & Iterators</b> <br>\n",
    " &nbsp;&nbsp;&nbsp;&nbsp; a) Yield Keyword <br>\n",
    " &nbsp;&nbsp;&nbsp;&nbsp; b) Inifinite Generator <br>\n",
    " &nbsp;&nbsp;&nbsp;&nbsp; c) In-Class Exercise #6 <br>\n",
    "6) <b>Exercises</b> <br>\n",
    " &nbsp;&nbsp;&nbsp;&nbsp; a) Exercise #1 - Filtering Empty Strings <br>\n",
    " &nbsp;&nbsp;&nbsp;&nbsp; b) Exercise #2 - Sorting with Last Name <br>\n",
    " &nbsp;&nbsp;&nbsp;&nbsp; c) Exercise #3 - Conversion to Farhenheit <br>\n",
    " &nbsp;&nbsp;&nbsp;&nbsp; d) Exercise #4 - Generator Sequence <br>"
   ]
  },
  {
   "cell_type": "markdown",
   "metadata": {},
   "source": [
    "## Lambda Functions <br>\n",
    "<p>Lambda functions... or \"Anonymous Functions\" are referring to inline functions with no name. The keyword lambda denotes the no name function, and executes within a single line. Without saving it to a variable; however, it is not able to be used, unless passed in either as a paramater or within list comprehension.<br>Written as \"(keyword lambda) (one or more inputs) (colon) (function to be executed)\"</p>"
   ]
  },
  {
   "cell_type": "markdown",
   "metadata": {},
   "source": [
    "#### Syntax"
   ]
  },
  {
   "cell_type": "code",
   "execution_count": 2,
   "metadata": {},
   "outputs": [
    {
     "name": "stdout",
     "output_type": "stream",
     "text": [
      "6\n",
      "6\n"
     ]
    }
   ],
   "source": [
    "def add_two(x):\n",
    "    return x +2\n",
    "print(add_two(4))\n",
    "\n",
    "# lambda Function Syntax\n",
    "# Lambda function without a variable\n",
    "#Lambda keyword parameter: functionality\n",
    "lambda x: x + 2\n",
    "#calling lambda function with no variable\n",
    "#                    argument we're passing into the lambda function\n",
    "print((lambda x: x+2)(4))"
   ]
  },
  {
   "cell_type": "markdown",
   "metadata": {},
   "source": [
    "#### Saving to a Variable"
   ]
  },
  {
   "cell_type": "code",
   "execution_count": 3,
   "metadata": {},
   "outputs": [
    {
     "data": {
      "text/plain": [
       "6"
      ]
     },
     "execution_count": 3,
     "metadata": {},
     "output_type": "execute_result"
    }
   ],
   "source": [
    "f_test = lambda num: num +2\n",
    "f_test(4)"
   ]
  },
  {
   "cell_type": "markdown",
   "metadata": {},
   "source": [
    "#### Multiple Inputs"
   ]
  },
  {
   "cell_type": "code",
   "execution_count": 7,
   "metadata": {},
   "outputs": [
    {
     "name": "stdout",
     "output_type": "stream",
     "text": [
      "120\n"
     ]
    },
    {
     "data": {
      "text/plain": [
       "120"
      ]
     },
     "execution_count": 7,
     "metadata": {},
     "output_type": "execute_result"
    }
   ],
   "source": [
    "# Multiplle inputs with no variable name\n",
    "# with miltiple inputs< each new parameter is separated by a come\n",
    "print((lambda x, y, z: x * y * z)(3, 5, 8))\n",
    "\n",
    "# Multiple inputs with a variable name\n",
    "x_test = lambda x, y, z: x * y *z\n",
    "x_test(3, 5, 8)"
   ]
  },
  {
   "cell_type": "markdown",
   "metadata": {},
   "source": [
    "#### Passing a Lambda into a Function"
   ]
  },
  {
   "cell_type": "code",
   "execution_count": null,
   "metadata": {},
   "outputs": [],
   "source": [
    "def multiply(f, num)\n",
    "    \"\"\"\n",
    "    f expects a lambda function\n",
    "    num expects a number\n",
    "    \"\"\"\n",
    "    return f(num)\n",
    "# f = lambda x: x * x\n",
    "# f(4)\n",
    "multiply(lambda x: x * x, 4) # lambda 4: 4 * 4"
   ]
  },
  {
   "cell_type": "markdown",
   "metadata": {},
   "source": [
    "#### Returning a Lambda from a Function"
   ]
  },
  {
   "cell_type": "code",
   "execution_count": 9,
   "metadata": {},
   "outputs": [
    {
     "name": "stdout",
     "output_type": "stream",
     "text": [
      "<function return_func.<locals>.multiply at 0x000002066D1A3E20>\n",
      "8\n",
      "Help on function <lambda> in module __main__:\n",
      "\n",
      "<lambda> lambda x, a\n",
      "\n",
      "25\n"
     ]
    }
   ],
   "source": [
    "# regular defined function\n",
    "def multiply_test(num):\n",
    "    return num * 4\n",
    "# function within a function\n",
    "def return_func():\n",
    "    def multiply(num):\n",
    "        return num * 2\n",
    "    return multiply\n",
    "# sets f_return variable to the return of return_func which is the multiply function\n",
    "f_return = return_func()\n",
    "print(f_return)\n",
    "print(f_return(4))\n",
    "# ^ this is similar to this ⬇️\n",
    "#    print(multiply(4))\n",
    "\n",
    "# Lambda function returned from a regular function\n",
    "def return_lamb(b, c):\n",
    "    return lambda x, a: x + a + b + c\n",
    "# setting a variable to the return of return_lamb with arguments for the b and c parameters\n",
    "r_lamb = return_lamb(4,6)\n",
    "# print(r_lamb)\n",
    "help(r_lamb)\n",
    "# calling the return of return_lamb, which is a lambda function\n",
    "# and passing in the arguments for the paramters in the lambda function, which are x and a\n",
    "print(r_lamb(7,8))\n",
    "\n"
   ]
  },
  {
   "cell_type": "markdown",
   "metadata": {},
   "source": [
    "#### If Statements within Lambdas"
   ]
  },
  {
   "cell_type": "code",
   "execution_count": 10,
   "metadata": {},
   "outputs": [
    {
     "name": "stdout",
     "output_type": "stream",
     "text": [
      "10\n",
      "24\n",
      "12\n"
     ]
    }
   ],
   "source": [
    "# lambda x: True if (condition) else False\n",
    "f_condition = lambda num: num * 2 if num > 10 else num + 2\n",
    "\n",
    "print(f_condition(8))\n",
    "print(f_condition(12))\n",
    "print(f_condition(10))"
   ]
  },
  {
   "cell_type": "code",
   "execution_count": null,
   "metadata": {},
   "outputs": [],
   "source": [
    "f_mult_condition = lambda num: num if num < 10 else(num * 2 if num < 15 else num * 3)\n",
    "print(f_mult_condition(5))\n",
    "print(f_mult_condition(12))\n",
    "print(f_mult_condition(20))"
   ]
  },
  {
   "cell_type": "markdown",
   "metadata": {},
   "source": [
    "#### In-Class Exercise #1 <br>\n",
    "<p>Write an anonymous function that cubes the arguments passed in if the number is less than  5, otherwise double  it. Assign the anonymous function to a variable 'f'.</p>"
   ]
  },
  {
   "cell_type": "code",
   "execution_count": null,
   "metadata": {},
   "outputs": [],
   "source": [
    "f = lambda num: num ** 3 if num < 5 else(num * 2)\n",
    "f(5)"
   ]
  },
  {
   "cell_type": "markdown",
   "metadata": {},
   "source": [
    "## Map <br>\n",
    "<p>The map function allows you to iterate over an entire list while running a function on each item of the list. This is why the map function works well with lambda's, because it simplifies things and you write less lines of code.<br>The syntax for a map function is \"map(function to be used, list to be used)\"<br>However, you must be careful, as the map function returns a map object, not a list. To turn it into a list we use the list() type conversion.</p>"
   ]
  },
  {
   "cell_type": "markdown",
   "metadata": {},
   "source": [
    "#### Syntax"
   ]
  },
  {
   "cell_type": "code",
   "execution_count": 11,
   "metadata": {},
   "outputs": [
    {
     "name": "stdout",
     "output_type": "stream",
     "text": [
      "25\n",
      "15\n",
      "<map object at 0x000002066DE4EBC0>\n",
      "[16, 11, 20, 9, 15, 19, 64]\n",
      "[16, 11, 20, 9, 15, 19, 64]\n",
      "[16, 11, 20, 9, 15, 19, 64]\n"
     ]
    }
   ],
   "source": [
    "# map(func, iterable(list, dict, tuple, etc...))\n",
    "# multiple iterables can be passed in\n",
    "# used with a pre-defined function or lambda\n",
    "def squared(num):\n",
    "    if num < 10:\n",
    "        return num ** 2\n",
    "    else:\n",
    "        return num\n",
    "print(squared(5))\n",
    "print(squared(15))\n",
    "\n",
    "numbers = [4, 11, 20, 3, 15, 19, 8]\n",
    "# variable that stores our map object\n",
    "squared_nums_map = map(squared, numbers)\n",
    "print(squared_nums_map)\n",
    "# converts the map object into a list so we can see the output\n",
    "squared_nums_map_list = list(squared_nums_map)\n",
    "# could also do something like this: squared_nums_map = list(map(squared, numbers))\n",
    "print(squared_nums_map_list)\n",
    "\n",
    "# for loop version\n",
    "output = []\n",
    "for num in numbers:\n",
    "    output.append(squared(num))\n",
    "print(output)\n",
    "\n",
    "# List Comprehension version\n",
    "squared_nums_lc = [squared(num) for num in numbers]\n",
    "print(squared_nums_lc)"
   ]
  },
  {
   "cell_type": "markdown",
   "metadata": {},
   "source": [
    "#### Using Lambda's with Map"
   ]
  },
  {
   "cell_type": "code",
   "execution_count": 14,
   "metadata": {},
   "outputs": [
    {
     "name": "stdout",
     "output_type": "stream",
     "text": [
      "[16, 11, 20, 9, 15, 19, 64]\n"
     ]
    }
   ],
   "source": [
    "# map(lambda x: x+2, List)\n",
    "# lambda with map for the most part will happen in one line\n",
    "numbers = [4, 11, 20, 3, 15, 19, 8]\n",
    "nums_squared_lamb = list(map(lambda x: x**2 if x < 10 else x, numbers))\n",
    "print(nums_squared_lamb)"
   ]
  },
  {
   "cell_type": "code",
   "execution_count": 15,
   "metadata": {},
   "outputs": [
    {
     "name": "stdout",
     "output_type": "stream",
     "text": [
      "[(16, 16), (11, 10), (20, 3), (9, 4), (15, 6)]\n"
     ]
    }
   ],
   "source": [
    "# map with multiple iterables\n",
    "numbers = [4, 11, 20, 3, 15, 19, 8]\n",
    "more_nums = [4, 10, 3, 2, 6]\n",
    "\n",
    "multi_map_lamb = list(map(lambda x, y: (x**2, y**2) if x < 10 and y < 10 else (x,y), numbers, more_nums))\n",
    "print(multi_map_lamb)"
   ]
  },
  {
   "cell_type": "markdown",
   "metadata": {},
   "source": [
    "#### In-Class Exercise #2 <br>\n",
    "<p>Use the map function to double each number and minus it by one in the list by using a lambda function</p>"
   ]
  },
  {
   "cell_type": "code",
   "execution_count": 16,
   "metadata": {},
   "outputs": [
    {
     "name": "stdout",
     "output_type": "stream",
     "text": [
      "[7, 21, 39, 5, 29, 39, 7, 19, 5, 3, 11]\n",
      "[(7, 7), (21, 19), (39, 5), (5, 3), (29, 11)]\n"
     ]
    }
   ],
   "source": [
    "numbers = [4,11,20,3,15,20]\n",
    "more_nums = [4,10,3,2,6]\n",
    "\n",
    "combined_result = list(map(lambda x: (x * 2 - 1), numbers + more_nums))\n",
    "print(combined_result)\n",
    "\n",
    "# lambda with two iterables\n",
    "combined_results2 =list(map(lambda x, y: (x * 2 - 1, y * 2 - 1), numbers, more_nums))\n",
    "print(combined_results2)"
   ]
  },
  {
   "cell_type": "markdown",
   "metadata": {},
   "source": [
    "## Filter() <br>\n",
    "<p>Filter's are similar to the map function, where you're able to pass a function argument and a list argument and filter out something from the list based on the conditions passed. Similar to the map function, it returns a filter object, so you need to type convert it to a list()</p>"
   ]
  },
  {
   "cell_type": "markdown",
   "metadata": {},
   "source": [
    "#### Syntax"
   ]
  },
  {
   "cell_type": "code",
   "execution_count": 20,
   "metadata": {},
   "outputs": [
    {
     "name": "stdout",
     "output_type": "stream",
     "text": [
      "<filter object at 0x000002066D79B340>\n",
      "['Andy', 'Angelica']\n"
     ]
    }
   ],
   "source": [
    "names = [\"Bob\", \"Andy\", \"Max\", \"Evan\", \"Angelica\"]\n",
    "\n",
    "def a_names(name):\n",
    "    if name[0].lower() == 'a':\n",
    "        return True\n",
    "    else:\n",
    "        return False\n",
    "        \n",
    "# set variable to filter object\n",
    "new_names = filter(a_names, names)\n",
    "print(new_names)\n",
    "# converting filter object into a list to view items\n",
    "new_names_list = list(new_names)\n",
    "print(new_names_list)\n"
   ]
  },
  {
   "cell_type": "markdown",
   "metadata": {},
   "source": [
    "#### Using Lambda's with Filter()"
   ]
  },
  {
   "cell_type": "code",
   "execution_count": 21,
   "metadata": {},
   "outputs": [
    {
     "name": "stdout",
     "output_type": "stream",
     "text": [
      "['Andy', 'Angelica']\n"
     ]
    }
   ],
   "source": [
    "new_names_lamb = list(filter(lambda name: True if name[0].lower() == \"a\" else False, names))\n",
    "print(new_names_lamb)"
   ]
  },
  {
   "cell_type": "code",
   "execution_count": 22,
   "metadata": {},
   "outputs": [
    {
     "name": "stdout",
     "output_type": "stream",
     "text": [
      "dict_items([('Morgan', 20), ('William', 5), ('Justin', 15)])\n",
      "{'Morgan': 20, 'Justin': 15}\n"
     ]
    }
   ],
   "source": [
    "# using filter with dictionaries\n",
    "\n",
    "grades = {\n",
    "    \"Morgan\": 20,\n",
    "    \"William\": 5,\n",
    "    \"Justin\": 15\n",
    "}\n",
    "\n",
    "print(grades.items())\n",
    "grades_filtered = dict(filter(lambda x: x[-1] > 10, grades.items()))\n",
    "\n",
    "print(grades_filtered)\n",
    "\n"
   ]
  },
  {
   "cell_type": "markdown",
   "metadata": {},
   "source": [
    "#### In-Class Exercise #3 <br>\n",
    "<p>Filter out all the numbers that are below the mean of the list.<br><b>Hint: Import the 'statistics' module</b></p>"
   ]
  },
  {
   "cell_type": "code",
   "execution_count": 26,
   "metadata": {},
   "outputs": [
    {
     "name": "stdout",
     "output_type": "stream",
     "text": [
      "[7, 9, 4.9]\n"
     ]
    }
   ],
   "source": [
    "nums = [2,7,4.2,1.6,9,4.4,4.9]\n",
    "from statistics import mean\n",
    "nums = [2,7,4.2,1.6,9,4.4,4.9]\n",
    "# print(statistics.mean([2,7,4.2,1.6,9,4.4,4.9]))\n",
    "mean_nums = mean(nums)\n",
    "new_nums = list(filter(lambda x: True if x > mean(nums) else False, nums))\n",
    "print(new_nums)\n",
    "\n"
   ]
  },
  {
   "cell_type": "markdown",
   "metadata": {},
   "source": [
    "## Generators <br>\n",
    "<p>Generators are a type of iterable, like lists or tuples. They do not allow indexing, but they can still be iterated through with for loops. They are created using functions and the yield statement.</p>"
   ]
  },
  {
   "cell_type": "markdown",
   "metadata": {},
   "source": [
    "#### Yield Keyword <br>\n",
    "<p>The yield keyword denotes a generator, it doesn't return so it won't leave the function and reset all variables in the function scope, instead it yields the number back to the caller.</p>"
   ]
  },
  {
   "cell_type": "code",
   "execution_count": 28,
   "metadata": {
    "scrolled": true
   },
   "outputs": [
    {
     "name": "stdout",
     "output_type": "stream",
     "text": [
      "2\n",
      "3\n",
      "4\n",
      "5\n",
      "6\n",
      "7\n",
      "8\n",
      "9\n",
      "10\n",
      "11\n",
      "12\n",
      "13\n",
      "14\n",
      "15\n",
      "16\n",
      "17\n",
      "18\n",
      "19\n",
      "<generator object my_range at 0x000002066E279CB0>\n"
     ]
    }
   ],
   "source": [
    "def my_range(stop, start, step = 1):\n",
    "    while start < stop:\n",
    "        yield start #yield keyword is what denotes generator\n",
    "        start += step\n",
    "        \n",
    "for i in my_range(20, start = 2):\n",
    "    my_generator_value = i\n",
    "    print(my_generator_value)\n",
    "# calling the function returns a generator object\n",
    "print(my_range(20, start = 2))"
   ]
  },
  {
   "cell_type": "markdown",
   "metadata": {},
   "source": [
    "#### next() keyword\n",
    "<p>Returns next element from the list, if not present prints the default value. If default value is not present, raises the StopIteration error.</p>"
   ]
  },
  {
   "cell_type": "code",
   "execution_count": 67,
   "metadata": {},
   "outputs": [],
   "source": [
    "def my_range(stop, start, step = 1):\n",
    "    while start < stop:\n",
    "        yield start #yield keyword is what denotes generator\n",
    "        start += step"
   ]
  },
  {
   "cell_type": "markdown",
   "metadata": {},
   "source": [
    "#### Creating a Generator Object\n",
    "<p>The generator object will store an iterable on which we can call the next() method.</p>"
   ]
  },
  {
   "cell_type": "code",
   "execution_count": 68,
   "metadata": {},
   "outputs": [],
   "source": [
    "generator_object = my_range(20, start = 2)"
   ]
  },
  {
   "cell_type": "code",
   "execution_count": 69,
   "metadata": {},
   "outputs": [
    {
     "data": {
      "text/plain": [
       "2"
      ]
     },
     "execution_count": 69,
     "metadata": {},
     "output_type": "execute_result"
    }
   ],
   "source": [
    "# next keyword to output the next item in the generator object\n",
    "next(generator_object)"
   ]
  },
  {
   "cell_type": "markdown",
   "metadata": {},
   "source": [
    "<p>Use try and except to print graceful message instead of the StopIteration error:"
   ]
  },
  {
   "cell_type": "code",
   "execution_count": null,
   "metadata": {},
   "outputs": [],
   "source": [
    "generator_object = my_range(20, start = 2)"
   ]
  },
  {
   "cell_type": "code",
   "execution_count": 53,
   "metadata": {},
   "outputs": [
    {
     "name": "stdout",
     "output_type": "stream",
     "text": [
      "You're out of range\n"
     ]
    }
   ],
   "source": [
    "try:\n",
    "    print(next(generator_object))\n",
    "except:\n",
    "    print(\"You're out of range\")"
   ]
  },
  {
   "cell_type": "markdown",
   "metadata": {},
   "source": [
    "#### Generators in Classes\n"
   ]
  },
  {
   "cell_type": "code",
   "execution_count": 55,
   "metadata": {},
   "outputs": [],
   "source": [
    "class Movie:\n",
    "    def __init__(self):\n",
    "        self.genres = [\"spooky\", \"adventure\", \"drama\", \"horror\", \"comedy\", \"action\", \"romance\", \"bromance\",\"anime\"]\n",
    "        self.generator_object = self.yield_genres()\n",
    "\n",
    "    def yield_genres(self):\n",
    "        for genre in self.genres:\n",
    "            yield genre\n",
    "\n",
    "    def show_genres(self):\n",
    "        try:\n",
    "            return next(self.generator_object)\n",
    "        except: \n",
    "            print(\"There are no more genres\")\n",
    "\n",
    "my_movie = Movie()"
   ]
  },
  {
   "cell_type": "code",
   "execution_count": 64,
   "metadata": {},
   "outputs": [
    {
     "name": "stdout",
     "output_type": "stream",
     "text": [
      "There are no more genres\n"
     ]
    }
   ],
   "source": [
    "my_movie.show_genres()"
   ]
  },
  {
   "cell_type": "markdown",
   "metadata": {},
   "source": [
    "#### In-Class Exercise #6 <br>\n",
    "<p>Create a generator that takes a number argument and yields that number squared, then prints each number squared until zero is reached.</p>"
   ]
  },
  {
   "cell_type": "code",
   "execution_count": 111,
   "metadata": {},
   "outputs": [
    {
     "name": "stdout",
     "output_type": "stream",
     "text": [
      "<generator object nah_tryna_square_down at 0x000002066DE9DC00>\n"
     ]
    }
   ],
   "source": [
    "def nah_tryna_square_down(start):\n",
    "    while start >= 0:\n",
    "        yield start ** 2 # Yield the square of start\n",
    "        start -= 1  # Decrement start by 1 in each iteration\n",
    "\n",
    "# Create a generator object\n",
    "generator_object = nah_tryna_square_down(10)\n",
    "#print(list(generator_object))\n",
    "print(generator_object)\n",
    "# # Retrieve values from the generator\n",
    "# for num in generator_object:\n",
    "#     print(num)"
   ]
  },
  {
   "cell_type": "code",
   "execution_count": 123,
   "metadata": {},
   "outputs": [
    {
     "name": "stdout",
     "output_type": "stream",
     "text": [
      "You're out of range\n"
     ]
    }
   ],
   "source": [
    "try:\n",
    "    print(next(generator_object))\n",
    "except:\n",
    "    print(\"You're out of range\")"
   ]
  },
  {
   "cell_type": "markdown",
   "metadata": {},
   "source": [
    "# Exercises"
   ]
  },
  {
   "cell_type": "markdown",
   "metadata": {},
   "source": [
    "### Exercise #1 <br>\n",
    "<p>Filter out all of the empty strings from the list below</p>\n",
    "\n",
    "`Output: ['Argentina', 'San Diego', 'Boston', 'New York']`"
   ]
  },
  {
   "cell_type": "code",
   "execution_count": 152,
   "metadata": {},
   "outputs": [
    {
     "name": "stdout",
     "output_type": "stream",
     "text": [
      "['Argentina', 'San Diego', 'Boston', 'New York']\n"
     ]
    }
   ],
   "source": [
    "places = [\" \",\"Argentina\", \" \", \"San Diego\",\"\",\"  \",\"\",\"Boston\",\"New York\"]\n",
    "\n",
    "cities = list(filter(lambda city: city.strip(), places))\n",
    "\n",
    "print(cities)\n",
    "\n"
   ]
  },
  {
   "cell_type": "markdown",
   "metadata": {},
   "source": [
    "### Exercise #2 <br>\n",
    "<p>Write an anonymous function that sorts this list by the last name...<br><b>Hint: Use the \".sort()\" method and access the key\"</b></p>\n",
    "\n",
    "`Output: ['Victor aNisimov', 'Gary A.J. Bernstein', 'Joel Carter', 'Andrew P. Garfield', 'David hassELHOFF']`"
   ]
  },
  {
   "cell_type": "code",
   "execution_count": 131,
   "metadata": {},
   "outputs": [
    {
     "name": "stdout",
     "output_type": "stream",
     "text": [
      "['Victor aNisimov', 'Gary A.J. Bernstein', 'Joel Carter', 'Andrew P. Garfield', 'David hassELHOFF']\n"
     ]
    }
   ],
   "source": [
    "author = [\"Joel Carter\", \"Victor aNisimov\", \"Andrew P. Garfield\",\"David hassELHOFF\",\"Gary A.J. Bernstein\"]\n",
    "\n",
    "#Lambda Function Syntax --> lambda x: x + 2\n",
    "\n",
    "author.sort(key = lambda name: name.split(\" \")[-1].title())\n",
    "\n",
    "print(author)\n"
   ]
  },
  {
   "cell_type": "markdown",
   "metadata": {},
   "source": [
    "### Exercise #3 <br>\n",
    "<p>Convert the list below from Celsius to Farhenheit, using the map function with a lambda...</p>\n",
    "\n",
    "`Output: [('Nashua', 89.6), ('Boston', 53.6), ('Los Angelos', 111.2), ('Miami', 84.2)]\n",
    "`"
   ]
  },
  {
   "cell_type": "code",
   "execution_count": 136,
   "metadata": {},
   "outputs": [
    {
     "name": "stdout",
     "output_type": "stream",
     "text": [
      "[('Nashua', 89.6), ('Boston', 53.6), ('Los Angeles', 111.2), ('Miami', 84.2)]\n"
     ]
    }
   ],
   "source": [
    "# F = (9/5)*C + 32\n",
    "places = [('Nashua',32),(\"Boston\",12),(\"Los Angeles\",44),(\"Miami\",29)]\n",
    "\n",
    "places_in_farhenheit = list(map(lambda x: (x[0], (9 / 5) *x[1] + 32), places))\n",
    "\n",
    "print(places_in_farhenheit)\n"
   ]
  },
  {
   "cell_type": "markdown",
   "metadata": {},
   "source": [
    "### Exercise #4 <br>\n",
    "<p>Create a generator function that individually returns each movie genre back from the list</p>\n",
    "\n",
    "\n"
   ]
  },
  {
   "cell_type": "code",
   "execution_count": 153,
   "metadata": {
    "scrolled": true
   },
   "outputs": [],
   "source": [
    "genres = [\"adventure\", \"drama\", \"horror\", \"comedy\", \"action\", \"romance\"]\n",
    "\n",
    "# **A generator allows small bits of data to be returned at a time from a function **\n",
    "\n",
    "def return_movie_genre():\n",
    "\n",
    "        for genre in genres:\n",
    "            yield genre\n",
    "\n",
    "my_genres = return_movie_genre()   \n",
    "\n"
   ]
  },
  {
   "cell_type": "code",
   "execution_count": 161,
   "metadata": {},
   "outputs": [
    {
     "name": "stdout",
     "output_type": "stream",
     "text": [
      "That is all the genres\n"
     ]
    }
   ],
   "source": [
    "try:\n",
    "    print(next(my_genres))\n",
    "except:\n",
    "    print(\"That is all the genres\")\n",
    "    "
   ]
  }
 ],
 "metadata": {
  "kernelspec": {
   "display_name": "Python 3 (ipykernel)",
   "language": "python",
   "name": "python3"
  },
  "language_info": {
   "codemirror_mode": {
    "name": "ipython",
    "version": 3
   },
   "file_extension": ".py",
   "mimetype": "text/x-python",
   "name": "python",
   "nbconvert_exporter": "python",
   "pygments_lexer": "ipython3",
   "version": "3.12.1"
  }
 },
 "nbformat": 4,
 "nbformat_minor": 4
}
